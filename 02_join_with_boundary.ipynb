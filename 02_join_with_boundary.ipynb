{
 "cells": [
  {
   "cell_type": "code",
   "execution_count": null,
   "metadata": {},
   "outputs": [],
   "source": [
    "import geopandas as gpd\n",
    "import pandas as pd"
   ]
  },
  {
   "cell_type": "code",
   "execution_count": null,
   "metadata": {},
   "outputs": [],
   "source": [
    "boundary = gpd.read_file(\"data/bma-subdistrict.geojson\")"
   ]
  },
  {
   "cell_type": "code",
   "execution_count": null,
   "metadata": {},
   "outputs": [],
   "source": [
    "boundary = boundary[[\"tam_namt\", \"geometry\"]]\n",
    "boundary"
   ]
  },
  {
   "cell_type": "code",
   "execution_count": null,
   "metadata": {},
   "outputs": [],
   "source": [
    "# load data + join\n",
    "df = pd.read_csv(\"data/output/groupby_region.csv\")\n",
    "\n",
    "pd.merge(boundary, df, how=\"right\", left_on=\"tam_namt\", right_on=\"subdistrict\").drop(\n",
    "    columns=\"tam_namt\"\n",
    ").rename(columns={\"subdistrict\": \"subdist\"}).to_file(\n",
    "    \"data/output/geojson/groupby_region.geojson\", driver=\"GeoJSON\"\n",
    ")"
   ]
  },
  {
   "cell_type": "code",
   "execution_count": null,
   "metadata": {},
   "outputs": [],
   "source": [
    "df = pd.read_csv(\"data/output/groupby_region_product.csv\")\n",
    "\n",
    "pd.merge(boundary, df, how=\"right\", left_on=\"tam_namt\", right_on=\"subdistrict\").drop(\n",
    "    columns=\"tam_namt\"\n",
    ").rename(columns={\"subdistrict\": \"subdist\"}).to_file(\n",
    "    \"data/output/geojson/groupby_region_product.geojson\", driver=\"GeoJSON\"\n",
    ")"
   ]
  },
  {
   "cell_type": "code",
   "execution_count": null,
   "metadata": {},
   "outputs": [],
   "source": [
    "# df = pd.read_csv('data/output/groupby_region_id_product.csv')\n",
    "\n",
    "# pd.merge(boundary, df, how='right', left_on='tam_namt', right_on='subdistrict')\\\n",
    "# .drop(columns='tam_namt').rename(columns={'subdistrict': 'subdist'})\\\n",
    "# .to_file('data/output/geojson/groupby_region_id_product.geojson', driver='GeoJSON')"
   ]
  },
  {
   "cell_type": "code",
   "execution_count": null,
   "metadata": {},
   "outputs": [],
   "source": []
  }
 ],
 "metadata": {
  "kernelspec": {
   "display_name": "Python 3",
   "language": "python",
   "name": "python3"
  },
  "language_info": {
   "codemirror_mode": {
    "name": "ipython",
    "version": 3
   },
   "file_extension": ".py",
   "mimetype": "text/x-python",
   "name": "python",
   "nbconvert_exporter": "python",
   "pygments_lexer": "ipython3",
   "version": "3.7.9"
  }
 },
 "nbformat": 4,
 "nbformat_minor": 4
}
