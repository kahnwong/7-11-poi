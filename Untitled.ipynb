{
 "cells": [
  {
   "cell_type": "code",
   "execution_count": null,
   "id": "3d7a3b99-c58e-4cb9-95e6-4161e5aeafd3",
   "metadata": {},
   "outputs": [],
   "source": [
    "import geopandas as gpd\n",
    "import pandas as pd\n",
    "from shapely.geometry import Point\n",
    "import matplotlib.pyplot as plt"
   ]
  },
  {
   "cell_type": "code",
   "execution_count": null,
   "id": "899c61cb-2b55-4b4b-93fd-6363bb781637",
   "metadata": {},
   "outputs": [],
   "source": []
  },
  {
   "cell_type": "code",
   "execution_count": null,
   "id": "424eb3ad-798d-485c-a571-fcb488c205f5",
   "metadata": {},
   "outputs": [],
   "source": [
    "from geoplot import pointplot\n",
    "import geoplot as gplt"
   ]
  },
  {
   "cell_type": "code",
   "execution_count": null,
   "id": "36be2a41-8aad-42ab-a892-0c387e43d6a3",
   "metadata": {},
   "outputs": [],
   "source": [
    "thailand = gpd.read_file(\"/Users/kahnwong/Git/data/gis/thailand_prov.shp\")\n",
    "# thailand"
   ]
  },
  {
   "cell_type": "code",
   "execution_count": null,
   "id": "65a48178-51ad-4521-820f-ae647c8a3e3c",
   "metadata": {
    "tags": []
   },
   "outputs": [],
   "source": [
    "df = pd.read_json(\"7-11_2021-05-02.jl\", lines=True)\n",
    "geometry = [Point(xy) for xy in zip(df.lng, df.lat)]\n",
    "crs = \"epsg:4326\"\n",
    "df = gpd.GeoDataFrame(df, crs=crs, geometry=geometry)\n",
    "\n",
    "# df.plot()\n",
    "\n",
    "extent = thailand.total_bounds\n",
    "\n",
    "\n",
    "ax = gplt.polyplot(thailand)  # , figsize=(15, 15))\n",
    "\n",
    "query = df\n",
    "gplt.pointplot(query, ax=ax, extent=extent)"
   ]
  },
  {
   "cell_type": "code",
   "execution_count": null,
   "id": "62a4b136-5824-41b9-82c3-f645b290961a",
   "metadata": {
    "tags": []
   },
   "outputs": [],
   "source": [
    "h = pd.read_csv(\n",
    "    \"data/input/hex-centroid-thailand-2.5km.csv\", skiprows=range(1, 80140 + 9380)\n",
    ")\n",
    "geometry = [Point(xy) for xy in zip(h.X, h.Y)]\n",
    "crs = \"epsg:4326\"\n",
    "h = gpd.GeoDataFrame(h, crs=crs, geometry=geometry)\n",
    "\n",
    "# df.plot()\n",
    "\n",
    "extent = thailand.total_bounds\n",
    "\n",
    "\n",
    "ax = gplt.polyplot(thailand)\n",
    "\n",
    "query = h\n",
    "gplt.pointplot(query, ax=ax, extent=extent)"
   ]
  },
  {
   "cell_type": "code",
   "execution_count": null,
   "id": "da61466b-bf68-4be6-94a9-c76d0683ed31",
   "metadata": {},
   "outputs": [],
   "source": []
  }
 ],
 "metadata": {
  "kernelspec": {
   "display_name": "Python 3",
   "language": "python",
   "name": "python3"
  },
  "language_info": {
   "codemirror_mode": {
    "name": "ipython",
    "version": 3
   },
   "file_extension": ".py",
   "mimetype": "text/x-python",
   "name": "python",
   "nbconvert_exporter": "python",
   "pygments_lexer": "ipython3",
   "version": "3.9.2"
  }
 },
 "nbformat": 4,
 "nbformat_minor": 5
}
