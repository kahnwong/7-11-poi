{
 "cells": [
  {
   "cell_type": "code",
   "execution_count": 58,
   "metadata": {},
   "outputs": [],
   "source": [
    "from pyspark.sql import SparkSession\n",
    "from pyspark.sql.functions import col, when, lit, coalesce\n",
    "from pyspark.sql.types import StructType, StructField, IntegerType, DoubleType, StringType, TimestampType\n",
    "from pyspark.sql.window import Window\n",
    "import pyspark.sql.functions as F\n",
    "\n",
    "spark = SparkSession \\\n",
    "    .builder \\\n",
    "    .appName(\"Pyspark playground\") \\\n",
    "    .config(\"spark.executor.memory\", \"4g\") \\\n",
    "    .config(\"spark.driver.memory\", \"4g\") \\\n",
    "    .getOrCreate()\n"
   ]
  },
  {
   "cell_type": "code",
   "execution_count": 59,
   "metadata": {},
   "outputs": [],
   "source": [
    "df = spark.read.json(\"data/items.jl\")"
   ]
  },
  {
   "cell_type": "code",
   "execution_count": 60,
   "metadata": {},
   "outputs": [],
   "source": [
    "# drop unused columns\n",
    "drop_cols = 'address direction distance renovate tel code'.split()\n",
    "df = df.drop(*drop_cols)"
   ]
  },
  {
   "cell_type": "code",
   "execution_count": 61,
   "metadata": {},
   "outputs": [],
   "source": [
    "# order columns\n",
    "df = df.select('id name lat lng products province district subdistrict postcode'.split())"
   ]
  },
  {
   "cell_type": "code",
   "execution_count": 62,
   "metadata": {},
   "outputs": [],
   "source": [
    "# drop ID duplicates (from scraping, since grid boundary might overlapped a bit)\n",
    "df = df.dropDuplicates(['id'])"
   ]
  },
  {
   "cell_type": "code",
   "execution_count": 63,
   "metadata": {},
   "outputs": [],
   "source": [
    "# # some record regions are NULL, but there's only 7 records so we SKIP it for now\n",
    "# df.where(col('province').isNull()).show()\n",
    "df = df.where(col('province').isNotNull())"
   ]
  },
  {
   "cell_type": "code",
   "execution_count": 33,
   "metadata": {},
   "outputs": [
    {
     "name": "stdout",
     "output_type": "stream",
     "text": [
      "+-----+--------------------+-----------+------------+--------------------+-------------+----------------+-----------+--------+\n",
      "|   id|                name|        lat|         lng|            products|     province|        district|subdistrict|postcode|\n",
      "+-----+--------------------+-----------+------------+--------------------+-------------+----------------+-----------+--------+\n",
      "|00326|   ประชาสงเคราะห์ 24|  13.775405|  100.563952|[[VF, 13, /static...|กรุงเทพมหานคร|          ดินแดง|     ดินแดง|   10320|\n",
      "|00332|         ช่องลมนนทรี|  13.700048|  100.546238|[[VF, 13, /static...|กรุงเทพมหานคร|         ยานนาวา|  ช่องนนทรี|   10120|\n",
      "|02070|       ปตท.ประชาชื่น|  13.835676|  100.539942|[[GP, 4, /static/...|กรุงเทพมหานคร|         บางซื่อ|    บางซื่อ|   10800|\n",
      "|02943|        บางกะปิคอนโด|  13.772295|  100.644563|[[FM, 15, /static...|กรุงเทพมหานคร|         บางกะปิ|   คลองจั่น|   10240|\n",
      "|03788|พหลโยธิน 2 ( New ...|13.77518416|100.54431991|[[VF, 13, /static...|กรุงเทพมหานคร|           พญาไท|   สามเสนใน|   10400|\n",
      "|04319| ปตท.รามอินทรา กม. 3|13.85987759|100.62219441|[[VF, 13, /static...|กรุงเทพมหานคร|          บางเขน| อนุสาวรีย์|   10220|\n",
      "|04868|        ซอย วี.ไอ.พี|  13.821345|  100.581538|[[VF, 13, /static...|กรุงเทพมหานคร|         จตุจักร|  จันทรเกษม|   10190|\n",
      "|04879|       แบริ่ง ซอย 40|  13.651742|   100.61862|[[VF, 13, /static...|  สมุทรปราการ|เมืองสมุทรปราการ| สำโรงเหนือ|   10270|\n",
      "|05176|      ลุมพินีบดินทร์| 13.7623873|100.61675226|[[VF, 13, /static...|กรุงเทพมหานคร|      วังทองหลาง|    พลับพลา|   10310|\n",
      "|05236|            สุทธาราม|   13.71334|  100.493797|[[FM, 15, /static...|กรุงเทพมหานคร|         คลองสาน|บางลำภูล่าง|   10600|\n",
      "|05422|แสนสุข (อบต.บางโฉลง)|  13.611923|  100.751638|[[VF, 13, /static...|  สมุทรปราการ|          บางพลี|    บางโฉลง|   10540|\n",
      "|05629|The Lake(เมืองทอง...|13.92043164|100.53932686|[[FM, 15, /static...|      นนทบุรี|        ปากเกร็ด|     บางพูด|   11120|\n",
      "|06518|     ซอยคุณพระ จุด 2|14.04960408| 100.6131655|[[VF, 13, /static...|     ปทุมธานี|        คลองหลวง|  คลองหนึ่ง|   12120|\n",
      "|07038|   สุขุมวิท 20 จุด 2|13.73068444|100.56399014|[[VF, 13, /static...|กรุงเทพมหานคร|         คลองเตย|    คลองเตย|   10110|\n",
      "|07283|           ศิริสุข 2|  13.918809|  100.577506|                  []|กรุงเทพมหานคร|        ดอนเมือง|      สีกัน|   10210|\n",
      "|07342|         ปตท.ไทรใหญ่|  14.087787|  100.308317|[[VF, 13, /static...|      นนทบุรี|         ไทรน้อย|    ไทรใหญ่|   11150|\n",
      "|07854|           สยามอังรี| 13.7447671|100.53549082|[[VF, 13, /static...|กรุงเทพมหานคร|         ปทุมวัน|    ปทุมวัน|   10330|\n",
      "|08935|       สุขสวัสดิ์ 39|  13.653289|100.52406518|[[FM, 15, /static...|  สมุทรปราการ|       พระประแดง|    บางพึ่ง|   10130|\n",
      "|09231|ศูนย์อาหารโต้รุ่ง...| 13.5601681|100.67199997|[[VF, 13, /static...|  สมุทรปราการ|เมืองสมุทรปราการ|     แพรกษา|   10280|\n",
      "|10096|       ทรายทองวิลเลจ|13.88975708|100.50426639|[[AC, 6, /static/...|      นนทบุรี|    เมืองนนทบุรี|    ท่าทราย|   11000|\n",
      "+-----+--------------------+-----------+------------+--------------------+-------------+----------------+-----------+--------+\n",
      "only showing top 20 rows\n",
      "\n"
     ]
    }
   ],
   "source": [
    "df.show()"
   ]
  },
  {
   "cell_type": "markdown",
   "metadata": {},
   "source": [
    "# Crunch"
   ]
  },
  {
   "cell_type": "markdown",
   "metadata": {},
   "source": [
    "## Groupby region"
   ]
  },
  {
   "cell_type": "code",
   "execution_count": 37,
   "metadata": {},
   "outputs": [
    {
     "name": "stdout",
     "output_type": "stream",
     "text": [
      "+-------------+-----------------+-------------+-----+\n",
      "|     province|         district|  subdistrict|count|\n",
      "+-------------+-----------------+-------------+-----+\n",
      "|กรุงเทพมหานคร|           พระนคร|     บวรนิเวศ|    4|\n",
      "|  สมุทรปราการ|           บางพลี|      บางโฉลง|   30|\n",
      "|      นนทบุรี|        บางบัวทอง|         ลำโพ|    8|\n",
      "|กรุงเทพมหานคร|        ภาษีเจริญ|      บางด้วน|    8|\n",
      "|กรุงเทพมหานคร|        ลาดกระบัง|คลองสามประเวศ|    8|\n",
      "|  สมุทรปราการ|           บางบ่อ|   บางพลีน้อย|    4|\n",
      "|   ฉะเชิงเทรา|          บางปะกง|        พิมพา|    3|\n",
      "|    สมุทรสาคร|   เมืองสมุทรสาคร|     โกรกกราก|    2|\n",
      "|   ฉะเชิงเทรา|    บางน้ำเปรี้ยว|      ศาลาแดง|    1|\n",
      "|กรุงเทพมหานคร|          สวนหลวง|      สวนหลวง|   85|\n",
      "|กรุงเทพมหานคร|          คลองเตย|      คลองตัน|   16|\n",
      "|    สมุทรสาคร|   เมืองสมุทรสาคร|      ท่าฉลอม|    3|\n",
      "|กรุงเทพมหานคร|ป้อมปราบศัตรูพ่าย|     ป้อมปราบ|   12|\n",
      "|     ปทุมธานี|          ธัญบุรี|  บึงน้ำรักษ์|    6|\n",
      "|กรุงเทพมหานคร|        ลาดกระบัง|    ลาดกระบัง|   31|\n",
      "|      ราชบุรี|         บ้านโป่ง|     กรับใหญ่|    2|\n",
      "|กรุงเทพมหานคร|           บางเขน|      คลองถนน|    1|\n",
      "|  สมุทรปราการ| เมืองสมุทรปราการ|      บางด้วน|    1|\n",
      "|กรุงเทพมหานคร|           บางรัก|         สีลม|   33|\n",
      "|กรุงเทพมหานคร|         ดอนเมือง|      สนามบิน|   12|\n",
      "+-------------+-----------------+-------------+-----+\n",
      "only showing top 20 rows\n",
      "\n"
     ]
    }
   ],
   "source": [
    "groupby_region = df.groupBy('province district subdistrict'.split()).agg(F.count('*').alias('count'))\n",
    "groupby_region.show()"
   ]
  },
  {
   "cell_type": "code",
   "execution_count": 38,
   "metadata": {},
   "outputs": [],
   "source": [
    "# groupby_region.toPandas().to_csv('data/output/groupby_region.csv', index=False)"
   ]
  },
  {
   "cell_type": "markdown",
   "metadata": {},
   "source": [
    "## Groupby product type"
   ]
  },
  {
   "cell_type": "code",
   "execution_count": 65,
   "metadata": {},
   "outputs": [],
   "source": [
    "df = df\\\n",
    "    .withColumn('products', F.explode('products'))\\\n",
    "    .select(*df.columns,\n",
    "            col('products.code').alias('product_code'),\n",
    "            col('products.name').alias('product_name')\n",
    "           )\\\n",
    "    .drop('products')\\\n",
    "    .cache()"
   ]
  },
  {
   "cell_type": "code",
   "execution_count": 52,
   "metadata": {},
   "outputs": [
    {
     "name": "stdout",
     "output_type": "stream",
     "text": [
      "+-------------+----------------+-----------+-----------------+-----+\n",
      "|     province|        district|subdistrict|     product_name|count|\n",
      "+-------------+----------------+-----------+-----------------+-----+\n",
      "|กรุงเทพมหานคร|         คลองสาน| คลองต้นไทร|           คัดสรร|   11|\n",
      "|กรุงเทพมหานคร|         ปทุมวัน|    วังใหม่|    ผักและผลไม้สด|   13|\n",
      "|กรุงเทพมหานคร|           บางนา| บางนาเหนือ|   เอ็กซ์ต้า พลัส|    3|\n",
      "|กรุงเทพมหานคร|         ทุ่งครุ|      บางมด|              กัฟ|    9|\n",
      "|กรุงเทพมหานคร|        ตลิ่งชัน| คลองชักพระ|       ออลล์คาเฟ่|    2|\n",
      "|  สมุทรปราการ|เมืองสมุทรปราการ|  บางปูใหม่|       ออลล์คาเฟ่|   12|\n",
      "|       นครปฐม|     เมืองนครปฐม|โพรงมะเดื่อ|    ผักและผลไม้สด|    2|\n",
      "|กรุงเทพมหานคร|          ดินแดง|     ดินแดง|       ออลล์คาเฟ่|   68|\n",
      "|กรุงเทพมหานคร|          ธนบุรี|   ดาวคะนอง|เนื้อสัตว์แช่แข็ง|    3|\n",
      "|       นครปฐม|       นครชัยศรี|  ท่าตำหนัก|       ออลล์คาเฟ่|    4|\n",
      "|  สมุทรปราการ|          บางบ่อ|  บางเพรียง|เนื้อสัตว์แช่แข็ง|    2|\n",
      "|      นนทบุรี|         ไทรน้อย|    ไทรน้อย|   เอ็กซ์ต้า พลัส|    1|\n",
      "|กรุงเทพมหานคร|     สัมพันธวงศ์|  จักรวรรดิ|       ออลล์คาเฟ่|    3|\n",
      "|กรุงเทพมหานคร|       ภาษีเจริญ|     บางแวก|       ออลล์คาเฟ่|    8|\n",
      "|กรุงเทพมหานคร|         จตุจักร|      จอมพล|       ออลล์คาเฟ่|   20|\n",
      "|กรุงเทพมหานคร|         หนองจอก|    ลำผักชี|           คัดสรร|    1|\n",
      "|      นนทบุรี|         บางกรวย|  บางขุนกอง|       ออลล์คาเฟ่|    3|\n",
      "|  สมุทรปราการ|เมืองสมุทรปราการ| สำโรงเหนือ|           คัดสรร|    9|\n",
      "|กรุงเทพมหานคร|            สาทร|    ยานนาวา|          สเลอปี้|    4|\n",
      "|      นนทบุรี|         บางกรวย| บางคูเวียง|          สเลอปี้|    2|\n",
      "+-------------+----------------+-----------+-----------------+-----+\n",
      "only showing top 20 rows\n",
      "\n"
     ]
    }
   ],
   "source": [
    "groupby_region_product = df.groupBy('province district subdistrict product_name'.split()).agg(F.count('*').alias('count'))\n",
    "groupby_region_product.show()"
   ]
  },
  {
   "cell_type": "code",
   "execution_count": 53,
   "metadata": {},
   "outputs": [],
   "source": [
    "groupby_region_product.toPandas().to_csv('data/output/groupby_region_product.csv', index=False)"
   ]
  },
  {
   "cell_type": "markdown",
   "metadata": {},
   "source": [
    "# Count product groups per branch"
   ]
  },
  {
   "cell_type": "code",
   "execution_count": 66,
   "metadata": {},
   "outputs": [
    {
     "name": "stdout",
     "output_type": "stream",
     "text": [
      "+-----+-------------+----------------+-----------+-----------+------------+-----+\n",
      "|   id|     province|        district|subdistrict|        lat|         lng|count|\n",
      "+-----+-------------+----------------+-----------+-----------+------------+-----+\n",
      "|00326|กรุงเทพมหานคร|          ดินแดง|     ดินแดง|  13.775405|  100.563952|    3|\n",
      "|00332|กรุงเทพมหานคร|         ยานนาวา|  ช่องนนทรี|  13.700048|  100.546238|    4|\n",
      "|02070|กรุงเทพมหานคร|         บางซื่อ|    บางซื่อ|  13.835676|  100.539942|    1|\n",
      "|02943|กรุงเทพมหานคร|         บางกะปิ|   คลองจั่น|  13.772295|  100.644563|    5|\n",
      "|03788|กรุงเทพมหานคร|           พญาไท|   สามเสนใน|13.77518416|100.54431991|    4|\n",
      "|04319|กรุงเทพมหานคร|          บางเขน| อนุสาวรีย์|13.85987759|100.62219441|    2|\n",
      "|04868|กรุงเทพมหานคร|         จตุจักร|  จันทรเกษม|  13.821345|  100.581538|    4|\n",
      "|04879|  สมุทรปราการ|เมืองสมุทรปราการ| สำโรงเหนือ|  13.651742|   100.61862|    3|\n",
      "|05176|กรุงเทพมหานคร|      วังทองหลาง|    พลับพลา| 13.7623873|100.61675226|    1|\n",
      "|05236|กรุงเทพมหานคร|         คลองสาน|บางลำภูล่าง|   13.71334|  100.493797|    4|\n",
      "|05422|  สมุทรปราการ|          บางพลี|    บางโฉลง|  13.611923|  100.751638|    2|\n",
      "|05629|      นนทบุรี|        ปากเกร็ด|     บางพูด|13.92043164|100.53932686|    6|\n",
      "|06518|     ปทุมธานี|        คลองหลวง|  คลองหนึ่ง|14.04960408| 100.6131655|    4|\n",
      "|07038|กรุงเทพมหานคร|         คลองเตย|    คลองเตย|13.73068444|100.56399014|    2|\n",
      "|07342|      นนทบุรี|         ไทรน้อย|    ไทรใหญ่|  14.087787|  100.308317|    3|\n",
      "|07854|กรุงเทพมหานคร|         ปทุมวัน|    ปทุมวัน| 13.7447671|100.53549082|    3|\n",
      "|08935|  สมุทรปราการ|       พระประแดง|    บางพึ่ง|  13.653289|100.52406518|    5|\n",
      "|09231|  สมุทรปราการ|เมืองสมุทรปราการ|     แพรกษา| 13.5601681|100.67199997|    2|\n",
      "|10096|      นนทบุรี|    เมืองนนทบุรี|    ท่าทราย|13.88975708|100.50426639|    1|\n",
      "|13610|      นนทบุรี|    เมืองนนทบุรี|    สวนใหญ่|  13.840474|100.49536318|    2|\n",
      "+-----+-------------+----------------+-----------+-----------+------------+-----+\n",
      "only showing top 20 rows\n",
      "\n"
     ]
    }
   ],
   "source": [
    "groupby_region_id_product = df.groupBy('id province district subdistrict lat lng'.split()).agg(F.count('product_name').alias('count'))\n",
    "groupby_region_id_product.show()"
   ]
  },
  {
   "cell_type": "code",
   "execution_count": 67,
   "metadata": {},
   "outputs": [],
   "source": [
    "groupby_region_id_product.toPandas().to_csv('data/output/groupby_region_id_product.csv', index=False)"
   ]
  },
  {
   "cell_type": "code",
   "execution_count": null,
   "metadata": {},
   "outputs": [],
   "source": []
  }
 ],
 "metadata": {
  "kernelspec": {
   "display_name": "Python 3",
   "language": "python",
   "name": "python3"
  },
  "language_info": {
   "codemirror_mode": {
    "name": "ipython",
    "version": 3
   },
   "file_extension": ".py",
   "mimetype": "text/x-python",
   "name": "python",
   "nbconvert_exporter": "python",
   "pygments_lexer": "ipython3",
   "version": "3.7.9"
  }
 },
 "nbformat": 4,
 "nbformat_minor": 4
}
